{
 "cells": [
  {
   "cell_type": "code",
   "execution_count": null,
   "metadata": {},
   "outputs": [],
   "source": [
    "import pdfplumber\n",
    "\n",
    "def extract_text(pdf_path):\n",
    "    text = \"\"\n",
    "    with pdfplumber.open(pdf_path) as pdf:\n",
    "        for page in pdf.pages:\n",
    "            text += page.extract_text() + \"\\n\"\n",
    "    return text\n",
    "\n",
    "pdf_path = 'C:/Users/hp/Desktop/MyArchive/Code/Virtual_Diabetalogist/dataset/dataset1.pdf'\n",
    "text = extract_text(pdf_path)\n"
   ]
  },
  {
   "cell_type": "code",
   "execution_count": null,
   "metadata": {},
   "outputs": [],
   "source": [
    "import re\n",
    "\n",
    "def clean_text(text):\n",
    "    # Remove chapter numbers (e.g., \"Chapter 1\", \"1. Introduction\")\n",
    "    text = re.sub(r'Chapter \\d+|^\\d+\\.\\s', '', text, flags=re.MULTILINE)\n",
    "    # Remove author details\n",
    "    text = re.sub(r'By .*?(\\n|\\r)', '', text)\n",
    "    # Remove alt text about tables or figures\n",
    "    text = re.sub(r'\\[Figure \\d+:.*?\\]', '', text)\n",
    "    text = re.sub(r'\\[Table \\d+:.*?\\]', '', text)\n",
    "    # Further cleaning can be added as needed\n",
    "    return text\n",
    "\n",
    "cleaned_text = clean_text(text)\n"
   ]
  },
  {
   "cell_type": "code",
   "execution_count": null,
   "metadata": {},
   "outputs": [],
   "source": [
    "from fpdf import FPDF\n",
    "\n",
    "def save_to_pdf(text, output_path):\n",
    "    pdf = FPDF()\n",
    "    pdf.add_page()\n",
    "    pdf.set_font(\"Arial\", size=12)\n",
    "    \n",
    "    for line in text.split('\\n'):\n",
    "        pdf.cell(0, 10, line, ln=True)\n",
    "    \n",
    "    pdf.output(output_path)\n",
    "\n",
    "output_path = 'C:/Users/hp/Desktop/MyArchive/Code/Virtual_Diabetalogist/dataset/cleaned_book.pdf'\n",
    "save_to_pdf(cleaned_text, output_path)\n"
   ]
  }
 ],
 "metadata": {
  "kernelspec": {
   "display_name": "Python 3",
   "language": "python",
   "name": "python3"
  },
  "language_info": {
   "codemirror_mode": {
    "name": "ipython",
    "version": 3
   },
   "file_extension": ".py",
   "mimetype": "text/x-python",
   "name": "python",
   "nbconvert_exporter": "python",
   "pygments_lexer": "ipython3",
   "version": "3.12.2"
  }
 },
 "nbformat": 4,
 "nbformat_minor": 2
}
